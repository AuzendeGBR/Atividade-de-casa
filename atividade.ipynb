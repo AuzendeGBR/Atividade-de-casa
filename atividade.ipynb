{
 "cells": [
  {
   "cell_type": "code",
   "execution_count": 1,
   "metadata": {},
   "outputs": [
    {
     "name": "stdout",
     "output_type": "stream",
     "text": [
      "O produto do dobro do primeiro vezes a metade do segundo é:  400.0\n",
      "A soma do triplo do primeiro com o terceiro é: 80\n",
      "   O terceiro elevado ao cubo é: 8000.0\n",
      "Os números são iguais.\n",
      "O valor é positivo.\n",
      "Aprovado. Média: 20.0\n",
      "O maior número é: 20.0\n"
     ]
    }
   ],
   "source": [
    "numero1 = int(input('Digite um número: '))\n",
    "numero2 = int(input('Digite outro número: '))\n",
    "numero3 = float(input('Digite um  número real: '))\n",
    "\n",
    "resultado1 =(2* numero1) * (numero2/2)\n",
    "print('O produto do dobro do primeiro vezes a metade do segundo é: ',resultado1)\n",
    "\n",
    "resultado2 = (3 * numero1) + numero2\n",
    "resultado2cubo = numero3 ** 3\n",
    "print(\"A soma do triplo do primeiro com o terceiro é:\", resultado2)\n",
    "print(\"   O terceiro elevado ao cubo é:\", resultado2cubo)\n",
    "\n",
    "\n",
    "\n",
    "num1 = float(input(\"Digite o primeiro número: \"))\n",
    "num2 = float(input(\"Digite o segundo número: \"))\n",
    "\n",
    "\n",
    "if num1 > num2:\n",
    "    print(\"O primeiro número é maior:\", num1)\n",
    "elif num2 > num1:\n",
    "    print(\"O segundo número é maior:\", num2)\n",
    "else:\n",
    "    print(\"Os números são iguais.\")\n",
    "\n",
    "\n",
    "\n",
    "valor = float(input(\"Digite um valor: \"))\n",
    "\n",
    "if valor > 0:\n",
    "    print(\"O valor é positivo.\")\n",
    "elif valor < 0:\n",
    "    print(\"O valor é negativo.\")\n",
    "else:\n",
    "    print(\"O valor é zero.\")\n",
    "\n",
    "\n",
    "nota1 = float(input(\"Digite a primeira nota: \"))\n",
    "nota2 = float(input(\"Digite a segunda nota: \"))\n",
    "\n",
    "\n",
    "media = (nota1 + nota2) / 2\n",
    "\n",
    "\n",
    "if media >= 7.0:\n",
    "    print(\"Aprovado. Média:\", media)\n",
    "else:\n",
    "    print(\"Reprovado. Média:\", media)\n",
    "\n",
    "\n",
    "num1 = float(input(\"Digite o primeiro número: \"))\n",
    "num2 = float(input(\"Digite o segundo número: \"))\n",
    "num3 = float(input(\"Digite o terceiro número: \"))\n",
    "\n",
    "maior_numero = max(num1, num2, num3)\n",
    "print(\"O maior número é:\", maior_numero)"
   ]
  }
 ],
 "metadata": {
  "kernelspec": {
   "display_name": "Python 3",
   "language": "python",
   "name": "python3"
  },
  "language_info": {
   "codemirror_mode": {
    "name": "ipython",
    "version": 3
   },
   "file_extension": ".py",
   "mimetype": "text/x-python",
   "name": "python",
   "nbconvert_exporter": "python",
   "pygments_lexer": "ipython3",
   "version": "3.10.8"
  }
 },
 "nbformat": 4,
 "nbformat_minor": 2
}
